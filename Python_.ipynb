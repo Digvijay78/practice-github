{
  "cells": [
    {
      "cell_type": "markdown",
      "metadata": {
        "id": "view-in-github",
        "colab_type": "text"
      },
      "source": [
        "<a href=\"https://colab.research.google.com/github/Digvijay78/practice-github/blob/master/Python_.ipynb\" target=\"_parent\"><img src=\"https://colab.research.google.com/assets/colab-badge.svg\" alt=\"Open In Colab\"/></a>"
      ]
    },
    {
      "cell_type": "code",
      "execution_count": null,
      "metadata": {
        "colab": {
          "base_uri": "https://localhost:8080/"
        },
        "id": "7novhovhO62J",
        "outputId": "2be15264-227e-4867-e569-0a77dc526b5b"
      },
      "outputs": [
        {
          "name": "stdout",
          "output_type": "stream",
          "text": [
            "hello world\n"
          ]
        }
      ],
      "source": [
        "print(\"hello world\")"
      ]
    },
    {
      "cell_type": "code",
      "execution_count": null,
      "metadata": {
        "colab": {
          "base_uri": "https://localhost:8080/"
        },
        "id": "MgL4v-wHPM-k",
        "outputId": "44daad1c-3d4c-4613-ca12-763370d12cef"
      },
      "outputs": [
        {
          "name": "stdout",
          "output_type": "stream",
          "text": [
            "5\n"
          ]
        }
      ],
      "source": [
        "print(2+3)"
      ]
    },
    {
      "cell_type": "code",
      "execution_count": null,
      "metadata": {
        "colab": {
          "base_uri": "https://localhost:8080/"
        },
        "id": "J0nWsmEOPUbH",
        "outputId": "91929caf-7e84-4570-ca4e-f0cb1ce037de"
      },
      "outputs": [
        {
          "data": {
            "text/plain": [
              "16"
            ]
          },
          "execution_count": 83,
          "metadata": {},
          "output_type": "execute_result"
        }
      ],
      "source": [
        "2**4"
      ]
    },
    {
      "cell_type": "code",
      "execution_count": null,
      "metadata": {
        "colab": {
          "base_uri": "https://localhost:8080/"
        },
        "id": "FWHRApIeQR6C",
        "outputId": "c8192d05-e40d-4e79-ae6c-2a93c92f969e"
      },
      "outputs": [
        {
          "data": {
            "text/plain": [
              "2.0"
            ]
          },
          "execution_count": 84,
          "metadata": {},
          "output_type": "execute_result"
        }
      ],
      "source": [
        "#to sqaure root\n",
        "\n",
        "4**0.5"
      ]
    },
    {
      "cell_type": "code",
      "execution_count": null,
      "metadata": {
        "colab": {
          "base_uri": "https://localhost:8080/"
        },
        "id": "5WDrSny5QbOg",
        "outputId": "c6f88f90-0661-4955-b504-aa011984faef"
      },
      "outputs": [
        {
          "data": {
            "text/plain": [
              "105"
            ]
          },
          "execution_count": 85,
          "metadata": {},
          "output_type": "execute_result"
        }
      ],
      "source": [
        "#multiplications happens first then addition\n",
        "2+10 * 10+3"
      ]
    },
    {
      "cell_type": "code",
      "execution_count": null,
      "metadata": {
        "colab": {
          "base_uri": "https://localhost:8080/"
        },
        "id": "GDrnnpknQleK",
        "outputId": "c7db8439-afe0-4a83-9f0a-28e1e159051c"
      },
      "outputs": [
        {
          "name": "stdout",
          "output_type": "stream",
          "text": [
            "5\n"
          ]
        }
      ],
      "source": [
        "#python is a dynamic programming languages so you dont need to define the type of the variables\n",
        "\n",
        "a = 5\n",
        "print(a)"
      ]
    },
    {
      "cell_type": "code",
      "execution_count": null,
      "metadata": {
        "colab": {
          "base_uri": "https://localhost:8080/"
        },
        "id": "0jy9dcZ_RFB4",
        "outputId": "12846991-af73-4059-94b6-f6611450bcc9"
      },
      "outputs": [
        {
          "name": "stdout",
          "output_type": "stream",
          "text": [
            "10\n"
          ]
        }
      ],
      "source": [
        "print(a+a)"
      ]
    },
    {
      "cell_type": "code",
      "execution_count": null,
      "metadata": {
        "id": "7Cs32KylRGpN"
      },
      "outputs": [],
      "source": [
        "#we can reasign the variables\n",
        "a = a *5"
      ]
    },
    {
      "cell_type": "code",
      "execution_count": null,
      "metadata": {
        "id": "NF6-6FaQXYVr"
      },
      "outputs": [],
      "source": [
        "# rules in varibales to follow\n",
        "#you cannot start the variable name with number for eg..  2a = 5\n",
        "#you cannot start with sybols"
      ]
    },
    {
      "cell_type": "code",
      "execution_count": null,
      "metadata": {
        "colab": {
          "base_uri": "https://localhost:8080/"
        },
        "id": "AIqP57o4X6vH",
        "outputId": "b105bfce-d45c-4c60-87a0-a6c3b4250b96"
      },
      "outputs": [
        {
          "data": {
            "text/plain": [
              "11.0"
            ]
          },
          "execution_count": 90,
          "metadata": {},
          "output_type": "execute_result"
        }
      ],
      "source": [
        "# multiply integer to floating result will be in floating\n",
        "\n",
        "myIncome = 5.5\n",
        "myTax = 2\n",
        "total = myIncome * myTax\n",
        "total"
      ]
    },
    {
      "cell_type": "code",
      "execution_count": null,
      "metadata": {
        "id": "iilu59eZYSCA"
      },
      "outputs": [],
      "source": [
        "#STRINGS"
      ]
    },
    {
      "cell_type": "code",
      "execution_count": null,
      "metadata": {
        "colab": {
          "base_uri": "https://localhost:8080/"
        },
        "id": "s-ZcOl3CYWtS",
        "outputId": "2aaf0713-cbc8-4116-f7a8-b4599d591a06"
      },
      "outputs": [
        {
          "name": "stdout",
          "output_type": "stream",
          "text": [
            "digivjay\n",
            "prakahr\n"
          ]
        }
      ],
      "source": [
        "#you can use double quote as we as single quote\n",
        "\n",
        "name = \"digivjay\"\n",
        "name2 = 'prakahr'\n",
        "\n",
        "print(name)\n",
        "print(name2)"
      ]
    },
    {
      "cell_type": "code",
      "execution_count": null,
      "metadata": {
        "colab": {
          "base_uri": "https://localhost:8080/"
        },
        "id": "7s8KSLuUYxwC",
        "outputId": "07b50c41-77cc-4bd7-e033-84a1a750ee48"
      },
      "outputs": [
        {
          "name": "stdout",
          "output_type": "stream",
          "text": [
            "abcdefg\n"
          ]
        }
      ],
      "source": [
        "#Indexing\n",
        "\n",
        "mystring = 'abcdefg'\n",
        "print(mystring)"
      ]
    },
    {
      "cell_type": "code",
      "execution_count": null,
      "metadata": {
        "colab": {
          "base_uri": "https://localhost:8080/"
        },
        "id": "SBwTxqGMZE1x",
        "outputId": "035a3157-f21e-4479-bb76-d8ffc5685bc9"
      },
      "outputs": [
        {
          "name": "stdout",
          "output_type": "stream",
          "text": [
            "a\n"
          ]
        }
      ],
      "source": [
        "print(mystring[0])"
      ]
    },
    {
      "cell_type": "code",
      "execution_count": null,
      "metadata": {
        "colab": {
          "base_uri": "https://localhost:8080/",
          "height": 36
        },
        "id": "J9r6BbxtZI2h",
        "outputId": "490205dd-b0b0-45f8-8973-1c456640f4df"
      },
      "outputs": [
        {
          "data": {
            "application/vnd.google.colaboratory.intrinsic+json": {
              "type": "string"
            },
            "text/plain": [
              "'g'"
            ]
          },
          "execution_count": 95,
          "metadata": {},
          "output_type": "execute_result"
        }
      ],
      "source": [
        "mystring[-1]"
      ]
    },
    {
      "cell_type": "code",
      "execution_count": null,
      "metadata": {
        "colab": {
          "base_uri": "https://localhost:8080/",
          "height": 36
        },
        "id": "layJE4AUZNET",
        "outputId": "0298b2d8-2fa7-4db8-c2c3-77037f5353ed"
      },
      "outputs": [
        {
          "data": {
            "application/vnd.google.colaboratory.intrinsic+json": {
              "type": "string"
            },
            "text/plain": [
              "'cdefg'"
            ]
          },
          "execution_count": 96,
          "metadata": {},
          "output_type": "execute_result"
        }
      ],
      "source": [
        "#slicing\n",
        "mystring[2:] #from 2nd index to the end of the string"
      ]
    },
    {
      "cell_type": "code",
      "execution_count": null,
      "metadata": {
        "colab": {
          "base_uri": "https://localhost:8080/",
          "height": 36
        },
        "id": "cbX7_i35ZeyR",
        "outputId": "22073b0d-f695-4e5b-f480-b99fff946d49"
      },
      "outputs": [
        {
          "data": {
            "application/vnd.google.colaboratory.intrinsic+json": {
              "type": "string"
            },
            "text/plain": [
              "'abcd'"
            ]
          },
          "execution_count": 97,
          "metadata": {},
          "output_type": "execute_result"
        }
      ],
      "source": [
        "mystring[:4] #from starting to before the 4"
      ]
    },
    {
      "cell_type": "code",
      "execution_count": null,
      "metadata": {
        "colab": {
          "base_uri": "https://localhost:8080/",
          "height": 36
        },
        "id": "ojCXWlAKZngy",
        "outputId": "e2695591-8f35-4839-8605-14bc825e23a4"
      },
      "outputs": [
        {
          "data": {
            "application/vnd.google.colaboratory.intrinsic+json": {
              "type": "string"
            },
            "text/plain": [
              "'cde'"
            ]
          },
          "execution_count": 98,
          "metadata": {},
          "output_type": "execute_result"
        }
      ],
      "source": [
        "mystring[2:5] #from staring index which inlcude 2 to just before the 5th index means 5th index doesn't include"
      ]
    },
    {
      "cell_type": "code",
      "execution_count": null,
      "metadata": {
        "colab": {
          "base_uri": "https://localhost:8080/",
          "height": 36
        },
        "id": "zdx3yHInaCe_",
        "outputId": "5a7dcb5a-f738-4a44-e042-d29dafe8fb26"
      },
      "outputs": [
        {
          "data": {
            "application/vnd.google.colaboratory.intrinsic+json": {
              "type": "string"
            },
            "text/plain": [
              "'abcdefg'"
            ]
          },
          "execution_count": 99,
          "metadata": {},
          "output_type": "execute_result"
        }
      ],
      "source": [
        "mystring[::1] #it means everything from start to end"
      ]
    },
    {
      "cell_type": "code",
      "execution_count": null,
      "metadata": {
        "colab": {
          "base_uri": "https://localhost:8080/",
          "height": 36
        },
        "id": "ukMZEXuWbbCO",
        "outputId": "ad0ac2f0-ff7b-4ed6-c858-47a8ed57efc3"
      },
      "outputs": [
        {
          "data": {
            "application/vnd.google.colaboratory.intrinsic+json": {
              "type": "string"
            },
            "text/plain": [
              "'aceg'"
            ]
          },
          "execution_count": 100,
          "metadata": {},
          "output_type": "execute_result"
        }
      ],
      "source": [
        "mystring[::2] #it means it will return everything in the gap of two"
      ]
    },
    {
      "cell_type": "code",
      "execution_count": null,
      "metadata": {
        "id": "mHg8KIl3bsac"
      },
      "outputs": [],
      "source": [
        "#string are immutable, means you cant change\n",
        "#mystring[0] = \"x\""
      ]
    },
    {
      "cell_type": "code",
      "execution_count": null,
      "metadata": {
        "colab": {
          "base_uri": "https://localhost:8080/",
          "height": 36
        },
        "id": "Qm4OVL9Eb7Ca",
        "outputId": "103733e1-3a95-49d1-9c85-96e3621a9722"
      },
      "outputs": [
        {
          "data": {
            "application/vnd.google.colaboratory.intrinsic+json": {
              "type": "string"
            },
            "text/plain": [
              "'mnopqr'"
            ]
          },
          "execution_count": 102,
          "metadata": {},
          "output_type": "execute_result"
        }
      ],
      "source": [
        "#you can define the whole string but it will erase the previous string\n",
        "\n",
        "mystring = \"mnopqr\"\n",
        "mystring"
      ]
    },
    {
      "cell_type": "code",
      "execution_count": null,
      "metadata": {
        "colab": {
          "base_uri": "https://localhost:8080/",
          "height": 36
        },
        "id": "3k6zyF9EcHX9",
        "outputId": "cffb748d-77b2-4f56-be25-bb0cbf895724"
      },
      "outputs": [
        {
          "data": {
            "application/vnd.google.colaboratory.intrinsic+json": {
              "type": "string"
            },
            "text/plain": [
              "'MNOPQR'"
            ]
          },
          "execution_count": 103,
          "metadata": {},
          "output_type": "execute_result"
        }
      ],
      "source": [
        "#to upper case the letter\n",
        "x = mystring.upper()\n",
        "x"
      ]
    },
    {
      "cell_type": "code",
      "execution_count": null,
      "metadata": {
        "colab": {
          "base_uri": "https://localhost:8080/",
          "height": 36
        },
        "id": "YE7Kt8_lcWqK",
        "outputId": "ce8ec679-73a9-4b81-d43d-3293f031dc0f"
      },
      "outputs": [
        {
          "data": {
            "application/vnd.google.colaboratory.intrinsic+json": {
              "type": "string"
            },
            "text/plain": [
              "'mnopqr'"
            ]
          },
          "execution_count": 104,
          "metadata": {},
          "output_type": "execute_result"
        }
      ],
      "source": [
        "x.lower()"
      ]
    },
    {
      "cell_type": "code",
      "execution_count": null,
      "metadata": {
        "colab": {
          "base_uri": "https://localhost:8080/",
          "height": 36
        },
        "id": "UhXSo9C0cdIw",
        "outputId": "a60e5d10-0675-486f-aece-c6588f2fe228"
      },
      "outputs": [
        {
          "data": {
            "application/vnd.google.colaboratory.intrinsic+json": {
              "type": "string"
            },
            "text/plain": [
              "'Mnopqr'"
            ]
          },
          "execution_count": 105,
          "metadata": {},
          "output_type": "execute_result"
        }
      ],
      "source": [
        "x.capitalize()"
      ]
    },
    {
      "cell_type": "code",
      "execution_count": null,
      "metadata": {
        "colab": {
          "base_uri": "https://localhost:8080/"
        },
        "id": "XmA6GO5Koltv",
        "outputId": "52ca25fc-4bca-424a-dabb-2429c3a0d580"
      },
      "outputs": [
        {
          "data": {
            "text/plain": [
              "['hello', 'world', 'django']"
            ]
          },
          "execution_count": 106,
          "metadata": {},
          "output_type": "execute_result"
        }
      ],
      "source": [
        "word = \"hello world django\"\n",
        "word.split() #it will split on spaces"
      ]
    },
    {
      "cell_type": "code",
      "execution_count": null,
      "metadata": {
        "colab": {
          "base_uri": "https://localhost:8080/"
        },
        "id": "bx3JO_18urZW",
        "outputId": "2134fd19-31c3-4090-9494-f8ff24a4f9f3"
      },
      "outputs": [
        {
          "data": {
            "text/plain": [
              "['h', 'llo world django']"
            ]
          },
          "execution_count": 107,
          "metadata": {},
          "output_type": "execute_result"
        }
      ],
      "source": [
        "word.split('e') #e will pops out and h will be alag and baaki ki string alag"
      ]
    },
    {
      "cell_type": "code",
      "execution_count": null,
      "metadata": {
        "colab": {
          "base_uri": "https://localhost:8080/",
          "height": 36
        },
        "id": "K2uF1EOgu1_V",
        "outputId": "229f6e3f-fa0f-4d97-820e-f7daee938bd4"
      },
      "outputs": [
        {
          "data": {
            "application/vnd.google.colaboratory.intrinsic+json": {
              "type": "string"
            },
            "text/plain": [
              "'Insert another string here: HEY'"
            ]
          },
          "execution_count": 108,
          "metadata": {},
          "output_type": "execute_result"
        }
      ],
      "source": [
        "x = \"Insert another string here: {}\".format(\"HEY\")\n",
        "x #it will insert HEY inside the curly bracet"
      ]
    },
    {
      "cell_type": "code",
      "execution_count": null,
      "metadata": {
        "colab": {
          "base_uri": "https://localhost:8080/",
          "height": 36
        },
        "id": "tzFm6bRzvXGY",
        "outputId": "61c77126-f76a-449c-beff-b9942fa41ed8"
      },
      "outputs": [
        {
          "data": {
            "application/vnd.google.colaboratory.intrinsic+json": {
              "type": "string"
            },
            "text/plain": [
              "'Item one :dog Item two : cat '"
            ]
          },
          "execution_count": 109,
          "metadata": {},
          "output_type": "execute_result"
        }
      ],
      "source": [
        "y = \"Item one :{} Item two : {} \". format(\"dog\" , \"cat\")\n",
        "y"
      ]
    },
    {
      "cell_type": "code",
      "execution_count": null,
      "metadata": {
        "colab": {
          "base_uri": "https://localhost:8080/",
          "height": 36
        },
        "id": "z9Wo7UO8v189",
        "outputId": "e12174d2-eb40-43a0-ac6c-65131db3b435"
      },
      "outputs": [
        {
          "data": {
            "application/vnd.google.colaboratory.intrinsic+json": {
              "type": "string"
            },
            "text/plain": [
              "'Item one :zebra Item two :elephant'"
            ]
          },
          "execution_count": 110,
          "metadata": {},
          "output_type": "execute_result"
        }
      ],
      "source": [
        "z = \"Item one :{x} Item two :{y}\".format(x =\"zebra\" , y = \"elephant\" )\n",
        "z"
      ]
    },
    {
      "cell_type": "code",
      "execution_count": null,
      "metadata": {
        "id": "JRwsiaGSwFMY"
      },
      "outputs": [],
      "source": [
        "#LIST\n"
      ]
    },
    {
      "cell_type": "code",
      "execution_count": null,
      "metadata": {
        "colab": {
          "base_uri": "https://localhost:8080/"
        },
        "id": "j3YQ5VIXw1yH",
        "outputId": "bcbf509b-1886-4db5-c43f-25229e9f9666"
      },
      "outputs": [
        {
          "data": {
            "text/plain": [
              "[1, 2, 'dfsd', 5.4, True, [6, 7, 8]]"
            ]
          },
          "execution_count": 112,
          "metadata": {},
          "output_type": "execute_result"
        }
      ],
      "source": [
        "myList = [1,2,3]\n",
        "mylist2 = [1,2,'dfsd',5.4,True, [6,7,8]]\n",
        "mylist2"
      ]
    },
    {
      "cell_type": "code",
      "execution_count": null,
      "metadata": {
        "colab": {
          "base_uri": "https://localhost:8080/"
        },
        "id": "Q4AruxIPxJq3",
        "outputId": "79cce7ea-7da4-4f5c-ce0d-18dca87077fd"
      },
      "outputs": [
        {
          "name": "stdout",
          "output_type": "stream",
          "text": [
            "6\n"
          ]
        }
      ],
      "source": [
        "print(len(mylist2))"
      ]
    },
    {
      "cell_type": "code",
      "execution_count": null,
      "metadata": {
        "colab": {
          "base_uri": "https://localhost:8080/"
        },
        "id": "lInIlIJyxMe3",
        "outputId": "681a9fb8-ae32-4975-e6d3-4713fd5e5663"
      },
      "outputs": [
        {
          "name": "stdout",
          "output_type": "stream",
          "text": [
            "c\n"
          ]
        }
      ],
      "source": [
        "mylist =['a','b','c','d']\n",
        "print(mylist[2])"
      ]
    },
    {
      "cell_type": "code",
      "execution_count": null,
      "metadata": {
        "colab": {
          "base_uri": "https://localhost:8080/"
        },
        "id": "3WfAsm7Excpb",
        "outputId": "025852c5-55a8-43d0-eaba-b081353c5160"
      },
      "outputs": [
        {
          "data": {
            "text/plain": [
              "['b', 'c', 'd']"
            ]
          },
          "execution_count": 115,
          "metadata": {},
          "output_type": "execute_result"
        }
      ],
      "source": [
        "mylist[1:]"
      ]
    },
    {
      "cell_type": "code",
      "execution_count": null,
      "metadata": {
        "colab": {
          "base_uri": "https://localhost:8080/"
        },
        "id": "EidYgWVk0Ncd",
        "outputId": "b2d33078-ec5f-4943-9419-ebde96ed2b65"
      },
      "outputs": [
        {
          "data": {
            "text/plain": [
              "['b', 'c']"
            ]
          },
          "execution_count": 116,
          "metadata": {},
          "output_type": "execute_result"
        }
      ],
      "source": [
        "mylist[1:3]"
      ]
    },
    {
      "cell_type": "code",
      "execution_count": null,
      "metadata": {
        "id": "SEmDqJUK0T0b"
      },
      "outputs": [],
      "source": [
        "#list are mutable\n",
        "mylist[0] = 'z'"
      ]
    },
    {
      "cell_type": "code",
      "execution_count": null,
      "metadata": {
        "colab": {
          "base_uri": "https://localhost:8080/"
        },
        "id": "O48T76pw0mma",
        "outputId": "d727ad8e-b5ac-4478-9655-54041cedd1da"
      },
      "outputs": [
        {
          "data": {
            "text/plain": [
              "['z', 'b', 'c', 'd']"
            ]
          },
          "execution_count": 118,
          "metadata": {},
          "output_type": "execute_result"
        }
      ],
      "source": [
        "mylist"
      ]
    },
    {
      "cell_type": "code",
      "execution_count": null,
      "metadata": {
        "colab": {
          "base_uri": "https://localhost:8080/"
        },
        "id": "rLXkpucW0nnA",
        "outputId": "16c270b6-078e-486a-c295-5ca1b942c11f"
      },
      "outputs": [
        {
          "data": {
            "text/plain": [
              "['z', 'b', 'c', 'd', 'new item']"
            ]
          },
          "execution_count": 119,
          "metadata": {},
          "output_type": "execute_result"
        }
      ],
      "source": [
        "#to add the item in the end of the list\n",
        "mylist.append(\"new item\")\n",
        "mylist"
      ]
    },
    {
      "cell_type": "code",
      "execution_count": null,
      "metadata": {
        "colab": {
          "base_uri": "https://localhost:8080/"
        },
        "id": "JJ2Oy5RT04Ua",
        "outputId": "e7073ef3-d424-49bb-a68d-28e1152b2e36"
      },
      "outputs": [
        {
          "data": {
            "text/plain": [
              "['z', 'b', 'c', 'd', 'new item', [1, 2, 3], 5, 6, 7]"
            ]
          },
          "execution_count": 120,
          "metadata": {},
          "output_type": "execute_result"
        }
      ],
      "source": [
        "mylist.append([1,2,3])\n",
        "mylist\n",
        "mylist.extend([5,6,7]) #see the difference it will add the new list as the original list\n",
        "mylist"
      ]
    },
    {
      "cell_type": "code",
      "execution_count": null,
      "metadata": {
        "colab": {
          "base_uri": "https://localhost:8080/"
        },
        "id": "b5qSwOLX1Z1_",
        "outputId": "1fde8811-8239-4a36-df4f-45f21b79f537"
      },
      "outputs": [
        {
          "data": {
            "text/plain": [
              "['z', 'b', 'c', 'd', 'new item', [1, 2, 3]]"
            ]
          },
          "execution_count": 123,
          "metadata": {},
          "output_type": "execute_result"
        }
      ],
      "source": [
        "#to remove the item inside the list\n",
        "item = mylist.pop()\n",
        "mylist"
      ]
    },
    {
      "cell_type": "code",
      "execution_count": null,
      "metadata": {
        "colab": {
          "base_uri": "https://localhost:8080/"
        },
        "id": "5t_69_GG1viW",
        "outputId": "cc538382-d8a6-415f-84dd-3d4694b9365a"
      },
      "outputs": [
        {
          "data": {
            "text/plain": [
              "5"
            ]
          },
          "execution_count": 124,
          "metadata": {},
          "output_type": "execute_result"
        }
      ],
      "source": [
        "item"
      ]
    },
    {
      "cell_type": "code",
      "execution_count": null,
      "metadata": {
        "colab": {
          "base_uri": "https://localhost:8080/"
        },
        "id": "6M7R8qEp2QUd",
        "outputId": "6d12c70f-a863-436b-a42a-225930f57211"
      },
      "outputs": [
        {
          "name": "stdout",
          "output_type": "stream",
          "text": [
            "['a', 'b', 'c', 'd', 'e']\n",
            "f\n"
          ]
        }
      ],
      "source": [
        "list1 = ['a','b','c','d','e','f']\n",
        "item = list1.pop()\n",
        "print(list1)\n",
        "print(item)\n",
        "#see item stores the pop out element, and it get reflect in the orginal array"
      ]
    },
    {
      "cell_type": "code",
      "execution_count": null,
      "metadata": {
        "colab": {
          "base_uri": "https://localhost:8080/"
        },
        "id": "ZetP7xxS2srP",
        "outputId": "4bdd8598-b737-46cf-a2ee-339316d028bf"
      },
      "outputs": [
        {
          "data": {
            "text/plain": [
              "['a', 'b', 'd', 'e']"
            ]
          },
          "execution_count": 126,
          "metadata": {},
          "output_type": "execute_result"
        }
      ],
      "source": [
        "list1.pop(2) #it will pop out the element in the index of 2\n",
        "list1  # means c will gone"
      ]
    },
    {
      "cell_type": "code",
      "execution_count": null,
      "metadata": {
        "colab": {
          "base_uri": "https://localhost:8080/"
        },
        "id": "xh6fjRX03bzE",
        "outputId": "63f0a803-4cd4-4dec-ae9e-8f874e5d6055"
      },
      "outputs": [
        {
          "name": "stdout",
          "output_type": "stream",
          "text": [
            "['e', 'd', 'b', 'a']\n"
          ]
        }
      ],
      "source": [
        "#to reverse\n",
        "list1.reverse()\n",
        "print(list1)"
      ]
    },
    {
      "cell_type": "code",
      "execution_count": null,
      "metadata": {
        "colab": {
          "base_uri": "https://localhost:8080/"
        },
        "id": "hf58ZQvq4f-5",
        "outputId": "ed2df16f-5fa3-4e0e-a330-4f636e95e636"
      },
      "outputs": [
        {
          "data": {
            "text/plain": [
              "[2, 4, 36, 77, 98, 444, 888]"
            ]
          },
          "execution_count": 130,
          "metadata": {},
          "output_type": "execute_result"
        }
      ],
      "source": [
        "list2 = [4,2,77,36,98,444,888]\n",
        "list2.sort()\n",
        "list2"
      ]
    },
    {
      "cell_type": "code",
      "execution_count": null,
      "metadata": {
        "colab": {
          "base_uri": "https://localhost:8080/"
        },
        "id": "hdfInJW542ki",
        "outputId": "d624ca16-5068-4f56-8497-07f1d0f600b0"
      },
      "outputs": [
        {
          "name": "stdout",
          "output_type": "stream",
          "text": [
            "[4, 5, 6, 7]\n"
          ]
        }
      ],
      "source": [
        "mylist3 = [1,2,[4,5,6,7]]\n",
        "print(mylist3[2])"
      ]
    },
    {
      "cell_type": "code",
      "execution_count": null,
      "metadata": {
        "colab": {
          "base_uri": "https://localhost:8080/"
        },
        "id": "uLLC0AaC5o4M",
        "outputId": "10bd7ab7-c4a1-41fe-8cc5-8b37bed6a3e8"
      },
      "outputs": [
        {
          "name": "stdout",
          "output_type": "stream",
          "text": [
            "6\n"
          ]
        }
      ],
      "source": [
        "print(mylist3[2][2]) # to get the element inside the nested list"
      ]
    },
    {
      "cell_type": "code",
      "execution_count": null,
      "metadata": {
        "id": "uowT13jk5tCk"
      },
      "outputs": [],
      "source": [
        "#Dictionaries are Python's Hash Table (object in javascript)\n",
        "# They allow us to create a \"mapping\" with key-value pairs\n"
      ]
    },
    {
      "cell_type": "code",
      "execution_count": null,
      "metadata": {
        "colab": {
          "base_uri": "https://localhost:8080/"
        },
        "id": "cydwVcx32jC4",
        "outputId": "5ce06f44-529f-4504-c902-1cedf858f6c6"
      },
      "outputs": [
        {
          "name": "stdout",
          "output_type": "stream",
          "text": [
            "value\n",
            "4\n"
          ]
        }
      ],
      "source": [
        "my_stuff = {\"key1\": \"value\",\n",
        "            \"key2\": 123,\n",
        "            \"key3\": 34.5,\n",
        "            \"key4\": True,\n",
        "            'key5': {'123':[1,2,'grabme']}\n",
        "            }\n",
        "print(my_stuff['key1'])   #you cannot call the values in dictinoaries with like------->>  my_stuff.key1\n",
        "print(my_stuff['key5']['123'][2])"
      ]
    },
    {
      "cell_type": "code",
      "execution_count": null,
      "metadata": {
        "colab": {
          "base_uri": "https://localhost:8080/",
          "height": 141
        },
        "id": "PyrGKxRU2_3d",
        "outputId": "cbda68a4-63c2-4604-e30a-12fad3d9b77e"
      },
      "outputs": [
        {
          "ename": "AttributeError",
          "evalue": "'int' object has no attribute 'upper'",
          "output_type": "error",
          "traceback": [
            "\u001b[0;31m---------------------------------------------------------------------------\u001b[0m",
            "\u001b[0;31mAttributeError\u001b[0m                            Traceback (most recent call last)",
            "\u001b[0;32m<ipython-input-8-be5052d8b390>\u001b[0m in \u001b[0;36m<cell line: 1>\u001b[0;34m()\u001b[0m\n\u001b[0;32m----> 1\u001b[0;31m \u001b[0mprint\u001b[0m\u001b[0;34m(\u001b[0m\u001b[0mmy_stuff\u001b[0m\u001b[0;34m[\u001b[0m\u001b[0;34m'key5'\u001b[0m\u001b[0;34m]\u001b[0m\u001b[0;34m[\u001b[0m\u001b[0;34m'123'\u001b[0m\u001b[0;34m]\u001b[0m\u001b[0;34m[\u001b[0m\u001b[0;36m2\u001b[0m\u001b[0;34m]\u001b[0m\u001b[0;34m.\u001b[0m\u001b[0mupper\u001b[0m\u001b[0;34m(\u001b[0m\u001b[0;34m)\u001b[0m\u001b[0;34m)\u001b[0m\u001b[0;34m\u001b[0m\u001b[0;34m\u001b[0m\u001b[0m\n\u001b[0m",
            "\u001b[0;31mAttributeError\u001b[0m: 'int' object has no attribute 'upper'"
          ]
        }
      ],
      "source": [
        "print(my_stuff['key5']['123'][2].upper()) #it is working in otger complier"
      ]
    },
    {
      "cell_type": "code",
      "execution_count": null,
      "metadata": {
        "id": "41ZpdpLG5bqQ"
      },
      "outputs": [],
      "source": [
        "# tuples are immutable in sequences\n",
        "#Sets are unordered collection of unique collection\n",
        "# Booleans are just True and False\n",
        "#"
      ]
    },
    {
      "cell_type": "code",
      "execution_count": null,
      "metadata": {
        "id": "v9lxifDBAoJz"
      },
      "outputs": [],
      "source": [
        "#Booleans\n",
        "#TRUE   #T needs to be capital\n",
        "#False   #F needs to be capital\n",
        "\n"
      ]
    },
    {
      "cell_type": "code",
      "execution_count": null,
      "metadata": {
        "colab": {
          "base_uri": "https://localhost:8080/"
        },
        "id": "JBvAcuIyBIXb",
        "outputId": "4749c849-6c6e-4d82-dcf8-8a8ffacf12e2"
      },
      "outputs": [
        {
          "name": "stdout",
          "output_type": "stream",
          "text": [
            "friend\n"
          ]
        }
      ],
      "source": [
        "#Tuples\n",
        "t = (1,'friend', 1.5) #they are immutable list, means they cant be change\n",
        "print(t[1])\n",
        "\n",
        "#String and tuples are immutable"
      ]
    },
    {
      "cell_type": "code",
      "execution_count": null,
      "metadata": {
        "colab": {
          "base_uri": "https://localhost:8080/"
        },
        "id": "2qRmYtvCBbjM",
        "outputId": "313c3a72-fc39-467e-ebe2-b6373079ab93"
      },
      "outputs": [
        {
          "name": "stdout",
          "output_type": "stream",
          "text": [
            "{1, 2, 0.01, 'hello'}\n"
          ]
        }
      ],
      "source": [
        "#Sets\n",
        "#They are unordered\n",
        "#They are unique\n",
        "\n",
        "x = set()\n",
        "x.add(1)\n",
        "x.add(2)\n",
        "x.add(0.01)\n",
        "x.add(1)\n",
        "x.add('hello')\n",
        "print(x)\n"
      ]
    },
    {
      "cell_type": "code",
      "execution_count": null,
      "metadata": {
        "colab": {
          "base_uri": "https://localhost:8080/"
        },
        "id": "GrxdfJBICMSo",
        "outputId": "8678b653-5572-4ffd-80b2-9b0778133306"
      },
      "outputs": [
        {
          "data": {
            "text/plain": [
              "{1, 5, 6}"
            ]
          },
          "execution_count": 16,
          "metadata": {},
          "output_type": "execute_result"
        }
      ],
      "source": [
        "s = set([1,5,6,6])\n",
        "s #observe how they get in the curcly bracket\n"
      ]
    },
    {
      "cell_type": "code",
      "execution_count": null,
      "metadata": {
        "colab": {
          "base_uri": "https://localhost:8080/"
        },
        "id": "Vq9GYHwGCQsF",
        "outputId": "0cb8d3db-b801-4166-e2cf-44287feb78a5"
      },
      "outputs": [
        {
          "name": "stdout",
          "output_type": "stream",
          "text": [
            "Hello my name is sammy I am 67 years old\n"
          ]
        }
      ],
      "source": [
        "a = 67\n",
        "name = \"sammy\"\n",
        "print(\"Hello my name is {x} I am {y} years old\".format(x = name, y = a))"
      ]
    },
    {
      "cell_type": "code",
      "execution_count": null,
      "metadata": {
        "colab": {
          "base_uri": "https://localhost:8080/"
        },
        "id": "nD-cPl4SEPMv",
        "outputId": "e99515c6-3c26-493e-ac09-d78dade71112"
      },
      "outputs": [
        {
          "name": "stdout",
          "output_type": "stream",
          "text": [
            "yes\n"
          ]
        }
      ],
      "source": [
        "#if else statement and intentation\n",
        "if 1<2:\n",
        "  print(\"yes\")"
      ]
    },
    {
      "cell_type": "code",
      "execution_count": null,
      "metadata": {
        "colab": {
          "base_uri": "https://localhost:8080/"
        },
        "id": "3pD3yfTiSKQV",
        "outputId": "9b25fb52-c8dd-4e02-bbcd-f805b592c940"
      },
      "outputs": [
        {
          "name": "stdout",
          "output_type": "stream",
          "text": [
            "elif ran\n"
          ]
        }
      ],
      "source": [
        "if 1>2:\n",
        "  print(\"hello\")\n",
        "elif 3==3:\n",
        "  print(\"elif ran\")\n",
        "else :\n",
        "  print(\"Last\")"
      ]
    },
    {
      "cell_type": "code",
      "execution_count": null,
      "metadata": {
        "colab": {
          "base_uri": "https://localhost:8080/"
        },
        "id": "IcWf0-zKWsUT",
        "outputId": "749a1789-c890-4ca8-ebf4-c7a9f0237d99"
      },
      "outputs": [
        {
          "name": "stdout",
          "output_type": "stream",
          "text": [
            "1\n",
            "2\n",
            "3\n",
            "4\n",
            "5\n",
            "6\n"
          ]
        }
      ],
      "source": [
        "seq = [1,2,3,4,5,6]\n",
        "\n",
        "for item in seq:\n",
        "  print(item)"
      ]
    },
    {
      "cell_type": "code",
      "execution_count": null,
      "metadata": {
        "colab": {
          "base_uri": "https://localhost:8080/"
        },
        "id": "ISgY4pR2XxuI",
        "outputId": "038be380-2b41-41c2-8fd0-f9bdd552f46a"
      },
      "outputs": [
        {
          "name": "stdout",
          "output_type": "stream",
          "text": [
            "key1 value\n",
            "key2 123\n",
            "key3 34.5\n",
            "key4 True\n",
            "key5 friend\n"
          ]
        }
      ],
      "source": [
        "d = {\"key1\": \"value\",\n",
        "            \"key2\": 123,\n",
        "            \"key3\": 34.5,\n",
        "            \"key4\": True,\n",
        "            'key5': \"friend\"}\n",
        "\n",
        "for item in d:\n",
        "  print(item, d[item])\n"
      ]
    },
    {
      "cell_type": "code",
      "execution_count": null,
      "metadata": {
        "colab": {
          "base_uri": "https://localhost:8080/"
        },
        "id": "PaWMxGydZNAe",
        "outputId": "eafddcf8-31f4-462e-a2a6-83fa711b0ac1"
      },
      "outputs": [
        {
          "name": "stdout",
          "output_type": "stream",
          "text": [
            "[1, 4, 9, 16, 25]\n"
          ]
        }
      ],
      "source": [
        "x = [1,2,3,4,5]\n",
        "\n",
        "output = [num**2 for num in x]\n",
        "print(output)"
      ]
    },
    {
      "cell_type": "code",
      "execution_count": null,
      "metadata": {
        "colab": {
          "base_uri": "https://localhost:8080/"
        },
        "id": "OpBlYYNTcTWg",
        "outputId": "9431802c-370b-45a9-b94d-06682fbfc0db"
      },
      "outputs": [
        {
          "name": "stdout",
          "output_type": "stream",
          "text": [
            "[36, 49, 64, 81]\n"
          ]
        }
      ],
      "source": [
        "y = [6,7,8,9]\n",
        "\n",
        "out=[]\n",
        "for item in y:\n",
        "  out.append(item**2)\n",
        "print(out)"
      ]
    },
    {
      "cell_type": "code",
      "execution_count": null,
      "metadata": {
        "colab": {
          "base_uri": "https://localhost:8080/"
        },
        "id": "Kb1L4mUlc7H8",
        "outputId": "2dd0d1b8-09cc-40a2-c8d8-41af5bc3be20"
      },
      "outputs": [
        {
          "data": {
            "text/plain": [
              "<filter at 0x7fca16b6b010>"
            ]
          },
          "execution_count": 30,
          "metadata": {},
          "output_type": "execute_result"
        }
      ],
      "source": [
        "list1 = [1,2,3,4,5,6,7,8]\n",
        "\n",
        "def even(num):\n",
        "  return num%2==0\n",
        "\n",
        "even = filter(even,list1)\n",
        "even\n",
        "#print(list(even))"
      ]
    },
    {
      "cell_type": "code",
      "execution_count": null,
      "metadata": {
        "colab": {
          "base_uri": "https://localhost:8080/"
        },
        "id": "ZzX_wzTFgiIm",
        "outputId": "e87bdaa9-3e0c-4a01-b5b3-ed8b1b73921e"
      },
      "outputs": [
        {
          "name": "stdout",
          "output_type": "stream",
          "text": [
            "[2, 4, 6, 8]\n"
          ]
        }
      ],
      "source": [
        "even_num = filter(lambda num: num%2==0 , list1)\n",
        "print(list(even_num))"
      ]
    },
    {
      "cell_type": "code",
      "execution_count": null,
      "metadata": {
        "colab": {
          "base_uri": "https://localhost:8080/"
        },
        "id": "lomkVzy-kAC-",
        "outputId": "7526692e-3eeb-415e-c9d8-96d64e038037"
      },
      "outputs": [
        {
          "name": "stdout",
          "output_type": "stream",
          "text": [
            "[2, 4]\n"
          ]
        }
      ],
      "source": [
        "list12 = [1,2,3,4,5]\n",
        "\n",
        "def even(num):\n",
        "  return num%2==0\n",
        "\n",
        "result1 = filter(even , list12)\n",
        "\n",
        "print(list(result1))"
      ]
    },
    {
      "cell_type": "code",
      "execution_count": null,
      "metadata": {
        "colab": {
          "base_uri": "https://localhost:8080/"
        },
        "id": "R4NBo8mRr_1N",
        "outputId": "d413d834-71c4-4c92-c7d7-25810a2f1e89"
      },
      "outputs": [
        {
          "name": "stdout",
          "output_type": "stream",
          "text": [
            "[2, 4]\n"
          ]
        }
      ],
      "source": [
        "result23 = filter(lambda num:num%2==0, list12)\n",
        "print(list(result23))"
      ]
    },
    {
      "cell_type": "code",
      "execution_count": null,
      "metadata": {
        "colab": {
          "base_uri": "https://localhost:8080/"
        },
        "id": "XEJ1TUepsmLb",
        "outputId": "6be63057-b34f-4ae9-9ed4-f6ec0cb798e2"
      },
      "outputs": [
        {
          "data": {
            "text/plain": [
              "True"
            ]
          },
          "execution_count": 13,
          "metadata": {},
          "output_type": "execute_result"
        }
      ],
      "source": [
        "nums = [1,1,2,3,1]\n",
        "\n",
        "# def arrayCheck(nums):\n",
        "\n",
        "\n",
        "# print(list(range(len(nums)-2)))\n",
        "# print(list(len(nums)-2))\n",
        "\n",
        "def arrayCheck(nums):\n",
        "\n",
        "  for i in range(len(nums)-2):\n",
        "    if nums[i] ==1 and nums[i+1] == 2 and nums[i+2] == 3:\n",
        "      return True\n",
        "  return False\n",
        "\n",
        "arrayCheck(nums)\n",
        "# dekho hamne yaha range kyu use kiya, kyuki agar ham sirf len(nums)-2 krte toh wo return kr rha hai sirf ek integer 3...... but hame irtrate krna hai toh ek integer pe kaise kre\n",
        "# toh sirf agar ham dekhe ki range(len(nums)-2) toh hame list deri hai teen element jispe ham itrate krke for loop ko run kr skte hai"
      ]
    },
    {
      "cell_type": "code",
      "execution_count": null,
      "metadata": {
        "colab": {
          "base_uri": "https://localhost:8080/"
        },
        "id": "7HOunXMYt_hd",
        "outputId": "0261a91e-8ab7-499c-e621-94c51fd9ecbe"
      },
      "outputs": [
        {
          "name": "stdout",
          "output_type": "stream",
          "text": [
            "Hello\n"
          ]
        }
      ],
      "source": [
        "str = \"Heeololeo\"\n",
        "def stringBits(str):\n",
        "  str1 =\"\"\n",
        "  for i in range(len(str)):\n",
        "    if i%2 == 0:\n",
        "      str1 = str1 + str[i]\n",
        "\n",
        "  return str1\n",
        "str1 = stringBits(str)\n",
        "print(str1)"
      ]
    },
    {
      "cell_type": "code",
      "execution_count": null,
      "metadata": {
        "colab": {
          "base_uri": "https://localhost:8080/"
        },
        "id": "xikkzvHux0fQ",
        "outputId": "ee88dd9f-a3eb-4d4f-e605-9d12525d0431"
      },
      "outputs": [
        {
          "name": "stdout",
          "output_type": "stream",
          "text": [
            "True\n",
            "True\n",
            "True\n",
            "False\n"
          ]
        }
      ],
      "source": [
        "def other_check(a,b):\n",
        "  a = a.lower()\n",
        "  b = b.lower()\n",
        "\n",
        "  if a[-1] == b[-1] and a[-2] == b[-2] and a[-3] == b[-3]:\n",
        "    return True\n",
        "  return False\n",
        "\n",
        "t1=other_check('Hiabc', 'abc')\n",
        "t2=other_check('AbC', 'HiaBc')\n",
        "t3=other_check('abc', 'abXabc')\n",
        "t4=other_check('abc', 'abXabcc')\n",
        "\n",
        "print(t1)\n",
        "print(t2)\n",
        "print(t3)\n",
        "print(t4)"
      ]
    },
    {
      "cell_type": "code",
      "execution_count": null,
      "metadata": {
        "colab": {
          "base_uri": "https://localhost:8080/"
        },
        "id": "XGhmljSz0Fow",
        "outputId": "edc8cbe8-db01-4e0a-90e4-466afe3d0b07"
      },
      "outputs": [
        {
          "name": "stdout",
          "output_type": "stream",
          "text": [
            "abc\n",
            "a\n",
            "abc\n"
          ]
        }
      ],
      "source": [
        "a = \"Hiabc\"\n",
        "b= \"abc\"\n",
        "\n",
        "print(a[-len(b):])\n",
        "print(a[-3])\n",
        "print(a[-3:])\n"
      ]
    },
    {
      "cell_type": "code",
      "execution_count": null,
      "metadata": {
        "colab": {
          "base_uri": "https://localhost:8080/"
        },
        "id": "y030DoMW3ZgS",
        "outputId": "56ff115a-e65d-4f9f-e980-8a619ce7b69d"
      },
      "outputs": [
        {
          "name": "stdout",
          "output_type": "stream",
          "text": [
            "TTHHEE\n"
          ]
        }
      ],
      "source": [
        "str = \"THE\"\n",
        "def doubleChar(str):\n",
        "  result =\"\"\n",
        "  for i in range(len(str)):\n",
        "    result = result + str[i] + str[i]\n",
        "  return result\n",
        "\n",
        "result = doubleChar(str)\n",
        "print(result)"
      ]
    },
    {
      "cell_type": "code",
      "execution_count": null,
      "metadata": {
        "colab": {
          "base_uri": "https://localhost:8080/"
        },
        "id": "qJ0jI-Gi4_mD",
        "outputId": "a34f76bd-3e69-41b4-ea05-5bfed7178018"
      },
      "outputs": [
        {
          "name": "stdout",
          "output_type": "stream",
          "text": [
            "6\n",
            "3\n",
            "19\n"
          ]
        }
      ],
      "source": [
        "def no_teen_sum(a,b,c):\n",
        "\n",
        "  return fix_teen(a) + fix_teen(b) + fix_teen(c)\n",
        "\n",
        "def fix_teen(n):\n",
        "  if n ==13 or n==14 or n==17 or n==18 or n==19:\n",
        "    return 0\n",
        "  return n\n",
        "print(no_teen_sum(1,2,3))\n",
        "print(no_teen_sum(1,2,13))\n",
        "print(no_teen_sum(1,15,3))"
      ]
    },
    {
      "cell_type": "code",
      "execution_count": null,
      "metadata": {
        "colab": {
          "base_uri": "https://localhost:8080/"
        },
        "id": "FbIRwW_ZIl4F",
        "outputId": "d4b9d0e0-d55b-48e4-b36b-e76379daf950"
      },
      "outputs": [
        {
          "name": "stdout",
          "output_type": "stream",
          "text": [
            "[2, 2, 4]\n"
          ]
        }
      ],
      "source": [
        "num = [2,1,2,3,4]\n",
        "\n",
        "def even(num):\n",
        "  result = filter(lambda num:num%2==0, num)\n",
        "  return result\n",
        "\n",
        "print(list(even(num)))"
      ]
    },
    {
      "cell_type": "code",
      "execution_count": null,
      "metadata": {
        "colab": {
          "base_uri": "https://localhost:8080/"
        },
        "id": "zT5rae0hKIoO",
        "outputId": "fbaf9333-46b0-45b6-f859-9df04d0aad54"
      },
      "outputs": [
        {
          "name": "stdout",
          "output_type": "stream",
          "text": [
            "3\n"
          ]
        }
      ],
      "source": [
        "num = [2,1,2,3,4]\n",
        "\n",
        "def even(num):\n",
        "  count = 0\n",
        "\n",
        "  for i in range(len(num)):\n",
        "    if num[i]%2==0:\n",
        "      count = count+1\n",
        "  return count\n",
        "print(even(num))"
      ]
    },
    {
      "cell_type": "code",
      "execution_count": null,
      "metadata": {
        "colab": {
          "base_uri": "https://localhost:8080/"
        },
        "id": "rRGCWu4JLNJL",
        "outputId": "616b0988-e549-4318-f9aa-8ba7d5b3575e"
      },
      "outputs": [
        {
          "name": "stdout",
          "output_type": "stream",
          "text": [
            "hello world\n"
          ]
        }
      ],
      "source": [
        "print(\"hello world\")"
      ]
    },
    {
      "cell_type": "code",
      "execution_count": null,
      "metadata": {
        "colab": {
          "base_uri": "https://localhost:8080/"
        },
        "id": "10hKzk3hnuZG",
        "outputId": "d55f4152-6b97-470a-dcf9-fd41d8ab7f98"
      },
      "outputs": [
        {
          "name": "stdout",
          "output_type": "stream",
          "text": [
            "<class '__main__.Sample'>\n"
          ]
        }
      ],
      "source": [
        "class Sample():\n",
        "  pass\n",
        "\n",
        "x = Sample()\n",
        "print(type(x))"
      ]
    },
    {
      "cell_type": "code",
      "execution_count": null,
      "metadata": {
        "colab": {
          "base_uri": "https://localhost:8080/"
        },
        "id": "kmH_yTdBlJnl",
        "outputId": "d49cd93a-6f51-4fab-cdd4-4e0c9df2cd82"
      },
      "outputs": [
        {
          "name": "stdout",
          "output_type": "stream",
          "text": [
            "LAb\n"
          ]
        }
      ],
      "source": [
        "class Dog():\n",
        "\n",
        "  def __init__(self,breed):\n",
        "    self.name = breed\n",
        "\n",
        "myDog = Dog(\"LAb\")\n",
        "print(myDog.name)"
      ]
    },
    {
      "cell_type": "code",
      "execution_count": null,
      "metadata": {
        "colab": {
          "base_uri": "https://localhost:8080/"
        },
        "id": "CVmQzfrDAESG",
        "outputId": "48be74f9-16d5-47a0-e930-90ad28697c5b"
      },
      "outputs": [
        {
          "name": "stdout",
          "output_type": "stream",
          "text": [
            "12.56\n"
          ]
        }
      ],
      "source": [
        "# class Circle():\n",
        "#   pie = 3.14\n",
        "#   def __init__(self, radius =1):\n",
        "#     self.area = self.pie*radius*radius #when you are using the varible you have to use the word self\n",
        "\n",
        "# myc = Circle(2)\n",
        "# print(myc.area)\n",
        "\n"
      ]
    },
    {
      "cell_type": "code",
      "execution_count": null,
      "metadata": {
        "colab": {
          "base_uri": "https://localhost:8080/"
        },
        "id": "jrEzWX4ZHroz",
        "outputId": "68c3007d-1d40-4c97-b43a-db52315e3a77"
      },
      "outputs": [
        {
          "name": "stdout",
          "output_type": "stream",
          "text": [
            "12.56\n"
          ]
        }
      ],
      "source": [
        "class Circle():\n",
        "    pie = 3.14\n",
        "    def __init__(self,radius = 1):\n",
        "      self.radius = radius\n",
        "\n",
        "    def area(self):\n",
        "      self.v = 1\n",
        "      return self.radius*self.radius*Circle.pie*self.v\n",
        "\n",
        "myc= Circle(2)\n",
        "print(myc.area())\n",
        "\n"
      ]
    },
    {
      "cell_type": "code",
      "execution_count": null,
      "metadata": {
        "colab": {
          "base_uri": "https://localhost:8080/"
        },
        "id": "dUELqGELKAMj",
        "outputId": "0128fd9f-32b7-4c70-dd05-dc174f63747a"
      },
      "outputs": [
        {
          "name": "stdout",
          "output_type": "stream",
          "text": [
            "Title :Django\n"
          ]
        },
        {
          "data": {
            "text/plain": [
              "<__main__.Book at 0x79dfbd61ac20>"
            ]
          },
          "execution_count": 20,
          "metadata": {},
          "output_type": "execute_result"
        }
      ],
      "source": [
        "class Book():\n",
        "\n",
        "  def __init__(self,subject,author,pages):\n",
        "    self.subject = subject\n",
        "    self.author = author\n",
        "    self.pages = pages\n",
        "\n",
        "  def __str__(self):\n",
        "    return \"Title :{}\".format(self.subject)\n",
        "\n",
        "myb = Book(\"Django\", \"jose\", 200)\n",
        "print(myb)\n",
        "myb"
      ]
    },
    {
      "cell_type": "code",
      "execution_count": null,
      "metadata": {
        "id": "-9lEXntQZjZU"
      },
      "outputs": [],
      "source": [
        "from random import shuffle"
      ]
    },
    {
      "cell_type": "code",
      "execution_count": null,
      "metadata": {
        "colab": {
          "base_uri": "https://localhost:8080/"
        },
        "id": "PEm8FVDxcovZ",
        "outputId": "ec509911-aaa5-4d1c-c223-181a19b2e13b"
      },
      "outputs": [
        {
          "name": "stdout",
          "output_type": "stream",
          "text": [
            "['H', 'D', 'S', 'C']\n",
            "['2', '3', '4', '5', '6', '7', '8', '9', '10', 'J', 'Q', 'K', 'A']\n"
          ]
        }
      ],
      "source": [
        "suite = 'H D S C'.split()\n",
        "print(suite)\n",
        "ranks = '2 3 4 5 6 7 8 9 10 J Q K A'.split()\n",
        "print(ranks)"
      ]
    },
    {
      "cell_type": "code",
      "execution_count": null,
      "metadata": {
        "colab": {
          "base_uri": "https://localhost:8080/"
        },
        "id": "s-snFbtDhM0Z",
        "outputId": "6a98f762-48bb-479b-d834-1856793700bc"
      },
      "outputs": [
        {
          "name": "stdout",
          "output_type": "stream",
          "text": [
            "52\n",
            "[('H', '2'), ('D', '2'), ('S', '2'), ('C', '2'), ('H', '3'), ('D', '3'), ('S', '3'), ('C', '3'), ('H', '4'), ('D', '4'), ('S', '4'), ('C', '4'), ('H', '5'), ('D', '5'), ('S', '5'), ('C', '5'), ('H', '6'), ('D', '6'), ('S', '6'), ('C', '6'), ('H', '7'), ('D', '7'), ('S', '7'), ('C', '7'), ('H', '8'), ('D', '8'), ('S', '8'), ('C', '8'), ('H', '9'), ('D', '9'), ('S', '9'), ('C', '9'), ('H', '10'), ('D', '10'), ('S', '10'), ('C', '10'), ('H', 'J'), ('D', 'J'), ('S', 'J'), ('C', 'J'), ('H', 'Q'), ('D', 'Q'), ('S', 'Q'), ('C', 'Q'), ('H', 'K'), ('D', 'K'), ('S', 'K'), ('C', 'K'), ('H', 'A'), ('D', 'A'), ('S', 'A'), ('C', 'A')]\n"
          ]
        }
      ],
      "source": [
        "myCards = []\n",
        "\n",
        "for r in ranks:\n",
        "  for s in suite:\n",
        "    myCards.append((s,r))\n",
        "\n",
        "print(len(myCards))\n",
        "\n",
        "# shuffle(myCards)\n",
        "print(myCards)"
      ]
    },
    {
      "cell_type": "code",
      "execution_count": null,
      "metadata": {
        "colab": {
          "base_uri": "https://localhost:8080/"
        },
        "id": "kjT1C705cuh-",
        "outputId": "3b02da5e-db29-49db-ea6f-292858585630"
      },
      "outputs": [
        {
          "name": "stdout",
          "output_type": "stream",
          "text": [
            "[('H', '2'), ('D', '2'), ('S', '2'), ('C', '2'), ('H', '3'), ('D', '3'), ('S', '3'), ('C', '3'), ('H', '4'), ('D', '4'), ('S', '4'), ('C', '4'), ('H', '5'), ('D', '5'), ('S', '5'), ('C', '5'), ('H', '6'), ('D', '6'), ('S', '6'), ('C', '6'), ('H', '7'), ('D', '7'), ('S', '7'), ('C', '7'), ('H', '8'), ('D', '8'), ('S', '8'), ('C', '8'), ('H', '9'), ('D', '9'), ('S', '9'), ('C', '9'), ('H', '10'), ('D', '10'), ('S', '10'), ('C', '10'), ('H', 'J'), ('D', 'J'), ('S', 'J'), ('C', 'J'), ('H', 'Q'), ('D', 'Q'), ('S', 'Q'), ('C', 'Q'), ('H', 'K'), ('D', 'K'), ('S', 'K'), ('C', 'K'), ('H', 'A'), ('D', 'A'), ('S', 'A'), ('C', 'A')]\n"
          ]
        }
      ],
      "source": [
        "# mycards = []\n",
        "\n",
        "# for r in ranks:\n",
        "#   for s in suite:\n",
        "#     mycards.append((s,r))\n",
        "\n",
        "# print(mycards)\n",
        "\n",
        "# shortcut to do that..... mycards = [(s,r) for r in ranks for s in suite ]"
      ]
    },
    {
      "cell_type": "markdown",
      "metadata": {
        "id": "6uarqNFk3ezj"
      },
      "source": []
    },
    {
      "cell_type": "code",
      "execution_count": null,
      "metadata": {
        "id": "aK5Beyx-egTC"
      },
      "outputs": [],
      "source": [
        "class Deck():\n",
        "\n",
        "  def __init__(self):\n",
        "    print(\"Creating New Ordered Decks!\")\n",
        "    self.mycards = [(s,r) for s in suite for r in ranks]\n",
        "\n",
        "  def shuffle(self):\n",
        "    print(\"Shuffling Deck\")\n",
        "    shuffle(self.mycards)\n",
        "\n",
        "  def split_in_half(self):\n",
        "    print(\"Split the Deck into Half\")\n",
        "    return (self.mycards[:26], self.mycards[26:])\n",
        "\n",
        "\n",
        "class Hand:\n",
        "\n",
        "  def __init__(self , cards):\n",
        "    self.cards = cards\n",
        "\n",
        "  def __str__(self):\n",
        "    return \"Contains {} cards\".format(len(self.cards))\n",
        "\n",
        "  def add(self, added_cards):\n",
        "    self.cards.extend(added_cards)\n",
        "\n",
        "  def remove_card(self):\n",
        "    return self.cards.pop()\n",
        "\n",
        "class Player:\n",
        "\n",
        "  def __init__(self,name,hand):\n",
        "    self.name = name\n",
        "    self.hand = hand\n",
        "\n",
        "  def play_card(self):\n",
        "    drawn_card = self.hand.remove_card()\n",
        "    print(\"{} has placed: {}\".format(self.name, drawn_card))\n",
        "    print(\"\\n\")\n",
        "    return drawn_card\n",
        "\n",
        "  def remove_war_cards(self):\n",
        "    war_cards = []\n",
        "\n",
        "    for x in range(3):\n",
        "      war_cards.append(self.hand.remove_cards())\n",
        "      return war_cards\n",
        "\n",
        "  def still_has_cards(self):\n",
        "\n",
        "    return len(self.hand.cards != 0)"
      ]
    },
    {
      "cell_type": "code",
      "execution_count": null,
      "metadata": {
        "colab": {
          "base_uri": "https://localhost:8080/",
          "height": 408
        },
        "id": "Dw-CttZQGcBh",
        "outputId": "7a631a3d-f0b3-412c-be78-673a1d0ea86d"
      },
      "outputs": [
        {
          "name": "stdout",
          "output_type": "stream",
          "text": [
            "Creating New Ordered Decks!\n",
            "Shuffling Deck\n",
            "Split the Deck into Half\n"
          ]
        },
        {
          "ename": "KeyboardInterrupt",
          "evalue": "Interrupted by user",
          "output_type": "error",
          "traceback": [
            "\u001b[0;31m---------------------------------------------------------------------------\u001b[0m",
            "\u001b[0;31mKeyboardInterrupt\u001b[0m                         Traceback (most recent call last)",
            "\u001b[0;32m<ipython-input-19-a351c7796ad5>\u001b[0m in \u001b[0;36m<cell line: 14>\u001b[0;34m()\u001b[0m\n\u001b[1;32m     12\u001b[0m \u001b[0mcomp\u001b[0m \u001b[0;34m=\u001b[0m \u001b[0mPlayer\u001b[0m\u001b[0;34m(\u001b[0m\u001b[0;34m\"computer\"\u001b[0m\u001b[0;34m,\u001b[0m \u001b[0mHand\u001b[0m\u001b[0;34m(\u001b[0m\u001b[0mhalf1\u001b[0m\u001b[0;34m)\u001b[0m\u001b[0;34m)\u001b[0m\u001b[0;34m\u001b[0m\u001b[0;34m\u001b[0m\u001b[0m\n\u001b[1;32m     13\u001b[0m \u001b[0;34m\u001b[0m\u001b[0m\n\u001b[0;32m---> 14\u001b[0;31m \u001b[0mname\u001b[0m \u001b[0;34m=\u001b[0m \u001b[0minput\u001b[0m\u001b[0;34m(\u001b[0m\u001b[0;34m\"what is your name?\"\u001b[0m\u001b[0;34m)\u001b[0m\u001b[0;34m\u001b[0m\u001b[0;34m\u001b[0m\u001b[0m\n\u001b[0m\u001b[1;32m     15\u001b[0m \u001b[0muser\u001b[0m \u001b[0;34m=\u001b[0m \u001b[0mPlayer\u001b[0m\u001b[0;34m(\u001b[0m\u001b[0mname\u001b[0m\u001b[0;34m,\u001b[0m\u001b[0mHand\u001b[0m\u001b[0;34m(\u001b[0m\u001b[0mhalf2\u001b[0m\u001b[0;34m)\u001b[0m\u001b[0;34m)\u001b[0m\u001b[0;34m\u001b[0m\u001b[0;34m\u001b[0m\u001b[0m\n\u001b[1;32m     16\u001b[0m \u001b[0;34m\u001b[0m\u001b[0m\n",
            "\u001b[0;32m/usr/local/lib/python3.10/dist-packages/ipykernel/kernelbase.py\u001b[0m in \u001b[0;36mraw_input\u001b[0;34m(self, prompt)\u001b[0m\n\u001b[1;32m    849\u001b[0m                 \u001b[0;34m\"raw_input was called, but this frontend does not support input requests.\"\u001b[0m\u001b[0;34m\u001b[0m\u001b[0;34m\u001b[0m\u001b[0m\n\u001b[1;32m    850\u001b[0m             )\n\u001b[0;32m--> 851\u001b[0;31m         return self._input_request(str(prompt),\n\u001b[0m\u001b[1;32m    852\u001b[0m             \u001b[0mself\u001b[0m\u001b[0;34m.\u001b[0m\u001b[0m_parent_ident\u001b[0m\u001b[0;34m,\u001b[0m\u001b[0;34m\u001b[0m\u001b[0;34m\u001b[0m\u001b[0m\n\u001b[1;32m    853\u001b[0m             \u001b[0mself\u001b[0m\u001b[0;34m.\u001b[0m\u001b[0m_parent_header\u001b[0m\u001b[0;34m,\u001b[0m\u001b[0;34m\u001b[0m\u001b[0;34m\u001b[0m\u001b[0m\n",
            "\u001b[0;32m/usr/local/lib/python3.10/dist-packages/ipykernel/kernelbase.py\u001b[0m in \u001b[0;36m_input_request\u001b[0;34m(self, prompt, ident, parent, password)\u001b[0m\n\u001b[1;32m    893\u001b[0m             \u001b[0;32mexcept\u001b[0m \u001b[0mKeyboardInterrupt\u001b[0m\u001b[0;34m:\u001b[0m\u001b[0;34m\u001b[0m\u001b[0;34m\u001b[0m\u001b[0m\n\u001b[1;32m    894\u001b[0m                 \u001b[0;31m# re-raise KeyboardInterrupt, to truncate traceback\u001b[0m\u001b[0;34m\u001b[0m\u001b[0;34m\u001b[0m\u001b[0m\n\u001b[0;32m--> 895\u001b[0;31m                 \u001b[0;32mraise\u001b[0m \u001b[0mKeyboardInterrupt\u001b[0m\u001b[0;34m(\u001b[0m\u001b[0;34m\"Interrupted by user\"\u001b[0m\u001b[0;34m)\u001b[0m \u001b[0;32mfrom\u001b[0m \u001b[0;32mNone\u001b[0m\u001b[0;34m\u001b[0m\u001b[0;34m\u001b[0m\u001b[0m\n\u001b[0m\u001b[1;32m    896\u001b[0m             \u001b[0;32mexcept\u001b[0m \u001b[0mException\u001b[0m \u001b[0;32mas\u001b[0m \u001b[0me\u001b[0m\u001b[0;34m:\u001b[0m\u001b[0;34m\u001b[0m\u001b[0;34m\u001b[0m\u001b[0m\n\u001b[1;32m    897\u001b[0m                 \u001b[0mself\u001b[0m\u001b[0;34m.\u001b[0m\u001b[0mlog\u001b[0m\u001b[0;34m.\u001b[0m\u001b[0mwarning\u001b[0m\u001b[0;34m(\u001b[0m\u001b[0;34m\"Invalid Message:\"\u001b[0m\u001b[0;34m,\u001b[0m \u001b[0mexc_info\u001b[0m\u001b[0;34m=\u001b[0m\u001b[0;32mTrue\u001b[0m\u001b[0;34m)\u001b[0m\u001b[0;34m\u001b[0m\u001b[0;34m\u001b[0m\u001b[0m\n",
            "\u001b[0;31mKeyboardInterrupt\u001b[0m: Interrupted by user"
          ]
        }
      ],
      "source": [
        "###########\n",
        "#GAME PLAY#\n",
        "###########\n",
        "\n",
        "\n",
        "#create new deck and split it in half:\n",
        "d = Deck()\n",
        "d.shuffle()\n",
        "half1,half2  = d.split_in_half()\n",
        "\n",
        "#create both players!\n",
        "comp = Player(\"computer\", Hand(half1))\n",
        "\n",
        "name = input(\"what is your name?\")\n",
        "user = Player(name,Hand(half2))\n",
        "\n",
        "total_rounds =0\n",
        "war_count = 0\n",
        "\n",
        "while user.still_has_cards() and comp.still_has_cards():\n",
        "  total_rounds += 1\n",
        "  print(\"Time for a new round!\")\n",
        "  print(\"here are the current standings\")\n",
        "  print(user.name +\"has the count: \"+str(len(user.hand.cards)))\n",
        "  print(comp.name +\"has the count: \"+str(len(user.hand.cards)))\n",
        "\n"
      ]
    },
    {
      "cell_type": "code",
      "execution_count": null,
      "metadata": {
        "colab": {
          "base_uri": "https://localhost:8080/"
        },
        "id": "akprcZBuGw8F",
        "outputId": "e817fb5e-b618-44df-d43b-086332619311"
      },
      "outputs": [
        {
          "name": "stdout",
          "output_type": "stream",
          "text": [
            "<class 'list'>\n"
          ]
        }
      ],
      "source": [
        "print(type(half2))"
      ]
    },
    {
      "cell_type": "code",
      "execution_count": null,
      "metadata": {
        "colab": {
          "base_uri": "https://localhost:8080/"
        },
        "id": "mBWtLY9CG3cE",
        "outputId": "a2622570-edb4-41f8-fbef-d0232d93692c"
      },
      "outputs": [
        {
          "name": "stdout",
          "output_type": "stream",
          "text": [
            "we are looking for the term 1\n",
            "Match\n",
            "we are looking for the term 2\n",
            "No match\n"
          ]
        }
      ],
      "source": [
        "import re\n",
        "\n",
        "patterns = [\"term 1\" , \"term 2\"]\n",
        "\n",
        "text = \"This is the string for the term 1\"\n",
        "\n",
        "for pattern in patterns:\n",
        "  print(\"we are looking for the {}\". format(pattern))\n",
        "\n",
        "  if re.search(pattern,text):\n",
        "    print(\"Match\")\n",
        "  else:\n",
        "    print('No match')"
      ]
    },
    {
      "cell_type": "code",
      "execution_count": null,
      "metadata": {
        "colab": {
          "base_uri": "https://localhost:8080/"
        },
        "id": "b0Tz4WJ2lGtv",
        "outputId": "b603c69f-4036-4395-b68d-1e65493e0d12"
      },
      "outputs": [
        {
          "name": "stdout",
          "output_type": "stream",
          "text": [
            "Searching for the pattern [^!?.]+\n",
            "['This is my textBook', ' How are you', ' I am doing good', ' oky then Thank you', ' hahah', ' bye']\n",
            "None\n"
          ]
        }
      ],
      "source": [
        "\n",
        "\n",
        "def match (pattern, text):\n",
        "\n",
        "  for pat in pattern:\n",
        "    print('Searching for the pattern {}'. format(pat))\n",
        "    print(re.findall(pat , text))\n",
        "\n",
        "text = \"This is my textBook! How are you? I am doing good. oky then Thank you! hahah! bye.\"\n",
        "pattern = ['[^!?.]+']\n",
        "print(match(pattern,text))"
      ]
    },
    {
      "cell_type": "code",
      "execution_count": null,
      "metadata": {
        "colab": {
          "background_save": true,
          "base_uri": "https://localhost:8080/",
          "height": 106
        },
        "id": "N4LL-fINrmn_",
        "outputId": "8803478a-7d31-4690-e9d8-19a180b304d0"
      },
      "outputs": [
        {
          "name": "stdout",
          "output_type": "stream",
          "text": [
            "Searching for the Pattern [a-z]\n",
            "['h', 'i', 's', 'i', 's', 'm', 'y', 't', 'e', 'x', 't', 'o', 'o', 'k', 'o', 'w', 'a', 'r', 'e', 'y', 'o', 'u', 'a', 'm', 'd', 'o', 'i', 'n', 'g', 'g', 'o', 'o', 'd', 'o', 'k', 'y', 't', 'h', 'e', 'n', 'h', 'a', 'n', 'k', 'y', 'o', 'u', 'h', 'a', 'h', 'a', 'h', 'b', 'y', 'e']\n",
            "\n",
            "\n",
            "None\n"
          ]
        }
      ],
      "source": [
        "text = \"This is my textBook! How are you? I am doing good. oky then Thank you! hahah! bye.\"\n",
        "pattern = ['[a-z]+']\n",
        "\n",
        "def match(pattern, text):\n",
        "\n",
        "  for pat in pattern:\n",
        "    print(\"Searching for the Pattern {}\".format(pat))\n",
        "    print(re.findall(pat, text))\n",
        "    pritn(\"\\n\")\n",
        "\n",
        "print(match(pattern,text))"
      ]
    },
    {
      "cell_type": "code",
      "execution_count": null,
      "metadata": {
        "id": "46uy_4CAL0gj"
      },
      "outputs": [],
      "source": []
    }
  ],
  "metadata": {
    "colab": {
      "provenance": [],
      "toc_visible": true,
      "authorship_tag": "ABX9TyONbSPVFCquEOK25l+IuvJq",
      "include_colab_link": true
    },
    "kernelspec": {
      "display_name": "Python 3",
      "name": "python3"
    },
    "language_info": {
      "name": "python"
    }
  },
  "nbformat": 4,
  "nbformat_minor": 0
}